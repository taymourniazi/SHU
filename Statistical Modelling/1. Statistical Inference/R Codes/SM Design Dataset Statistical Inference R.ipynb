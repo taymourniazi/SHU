{
 "cells": [
  {
   "cell_type": "code",
   "execution_count": 13,
   "metadata": {},
   "outputs": [],
   "source": [
    "library(readxl)\n",
    "#reading the Data\n",
    "dataset = read_excel(\"Designs.xlsx\")"
   ]
  },
  {
   "cell_type": "code",
   "execution_count": 14,
   "metadata": {},
   "outputs": [
    {
     "data": {
      "text/html": [
       "<table>\n",
       "<thead><tr><th scope=col>Store</th><th scope=col>Con1</th><th scope=col>Con2</th></tr></thead>\n",
       "<tbody>\n",
       "\t<tr><td> 1 </td><td>141</td><td>118</td></tr>\n",
       "\t<tr><td> 2 </td><td>184</td><td>167</td></tr>\n",
       "\t<tr><td> 3 </td><td>132</td><td>137</td></tr>\n",
       "\t<tr><td> 4 </td><td>161</td><td>168</td></tr>\n",
       "\t<tr><td> 5 </td><td>176</td><td>175</td></tr>\n",
       "\t<tr><td> 6 </td><td>196</td><td>197</td></tr>\n",
       "\t<tr><td> 7 </td><td>169</td><td>143</td></tr>\n",
       "\t<tr><td> 8 </td><td>199</td><td>169</td></tr>\n",
       "\t<tr><td> 9 </td><td>150</td><td>123</td></tr>\n",
       "\t<tr><td>10 </td><td>218</td><td>197</td></tr>\n",
       "</tbody>\n",
       "</table>\n"
      ],
      "text/latex": [
       "\\begin{tabular}{r|lll}\n",
       " Store & Con1 & Con2\\\\\n",
       "\\hline\n",
       "\t  1  & 141 & 118\\\\\n",
       "\t  2  & 184 & 167\\\\\n",
       "\t  3  & 132 & 137\\\\\n",
       "\t  4  & 161 & 168\\\\\n",
       "\t  5  & 176 & 175\\\\\n",
       "\t  6  & 196 & 197\\\\\n",
       "\t  7  & 169 & 143\\\\\n",
       "\t  8  & 199 & 169\\\\\n",
       "\t  9  & 150 & 123\\\\\n",
       "\t 10  & 218 & 197\\\\\n",
       "\\end{tabular}\n"
      ],
      "text/markdown": [
       "\n",
       "Store | Con1 | Con2 | \n",
       "|---|---|---|---|---|---|---|---|---|---|\n",
       "|  1  | 141 | 118 | \n",
       "|  2  | 184 | 167 | \n",
       "|  3  | 132 | 137 | \n",
       "|  4  | 161 | 168 | \n",
       "|  5  | 176 | 175 | \n",
       "|  6  | 196 | 197 | \n",
       "|  7  | 169 | 143 | \n",
       "|  8  | 199 | 169 | \n",
       "|  9  | 150 | 123 | \n",
       "| 10  | 218 | 197 | \n",
       "\n",
       "\n"
      ],
      "text/plain": [
       "   Store Con1 Con2\n",
       "1   1    141  118 \n",
       "2   2    184  167 \n",
       "3   3    132  137 \n",
       "4   4    161  168 \n",
       "5   5    176  175 \n",
       "6   6    196  197 \n",
       "7   7    169  143 \n",
       "8   8    199  169 \n",
       "9   9    150  123 \n",
       "10 10    218  197 "
      ]
     },
     "metadata": {},
     "output_type": "display_data"
    }
   ],
   "source": [
    "#feeling data\n",
    "dataset"
   ]
  },
  {
   "cell_type": "code",
   "execution_count": 15,
   "metadata": {},
   "outputs": [
    {
     "data": {
      "image/png": "[encoded data removed]",
      "text/plain": [
       "plot without title"
      ]
     },
     "metadata": {},
     "output_type": "display_data"
    }
   ],
   "source": [
    "#feeling data 2\n",
    "boxplot(dataset$Con1, dataset$Con2)"
   ]
  },
  {
   "cell_type": "code",
   "execution_count": 17,
   "metadata": {},
   "outputs": [
    {
     "name": "stderr",
     "output_type": "stream",
     "text": [
      "Warning message in describeBy(dataset$Con1):\n",
      "\"no grouping variable requested\""
     ]
    },
    {
     "data": {
      "text/html": [
       "<table>\n",
       "<thead><tr><th></th><th scope=col>vars</th><th scope=col>n</th><th scope=col>mean</th><th scope=col>sd</th><th scope=col>median</th><th scope=col>trimmed</th><th scope=col>mad</th><th scope=col>min</th><th scope=col>max</th><th scope=col>range</th><th scope=col>skew</th><th scope=col>kurtosis</th><th scope=col>se</th></tr></thead>\n",
       "<tbody>\n",
       "\t<tr><th scope=row>X1</th><td>1       </td><td>10      </td><td>172.6   </td><td>27.391  </td><td>172.5   </td><td>172     </td><td>34.0998 </td><td>132     </td><td>218     </td><td>86      </td><td>0.071441</td><td>-1.39326</td><td>8.661794</td></tr>\n",
       "</tbody>\n",
       "</table>\n"
      ],
      "text/latex": [
       "\\begin{tabular}{r|lllllllllllll}\n",
       "  & vars & n & mean & sd & median & trimmed & mad & min & max & range & skew & kurtosis & se\\\\\n",
       "\\hline\n",
       "\tX1 & 1        & 10       & 172.6    & 27.391   & 172.5    & 172      & 34.0998  & 132      & 218      & 86       & 0.071441 & -1.39326 & 8.661794\\\\\n",
       "\\end{tabular}\n"
      ],
      "text/markdown": [
       "\n",
       "| <!--/--> | vars | n | mean | sd | median | trimmed | mad | min | max | range | skew | kurtosis | se | \n",
       "|---|\n",
       "| X1 | 1        | 10       | 172.6    | 27.391   | 172.5    | 172      | 34.0998  | 132      | 218      | 86       | 0.071441 | -1.39326 | 8.661794 | \n",
       "\n",
       "\n"
      ],
      "text/plain": [
       "   vars n  mean  sd     median trimmed mad     min max range skew     kurtosis\n",
       "X1 1    10 172.6 27.391 172.5  172     34.0998 132 218 86    0.071441 -1.39326\n",
       "   se      \n",
       "X1 8.661794"
      ]
     },
     "metadata": {},
     "output_type": "display_data"
    },
    {
     "name": "stderr",
     "output_type": "stream",
     "text": [
      "Warning message in describeBy(dataset$Con2):\n",
      "\"no grouping variable requested\""
     ]
    },
    {
     "data": {
      "text/html": [
       "<table>\n",
       "<thead><tr><th></th><th scope=col>vars</th><th scope=col>n</th><th scope=col>mean</th><th scope=col>sd</th><th scope=col>median</th><th scope=col>trimmed</th><th scope=col>mad</th><th scope=col>min</th><th scope=col>max</th><th scope=col>range</th><th scope=col>skew</th><th scope=col>kurtosis</th><th scope=col>se</th></tr></thead>\n",
       "<tbody>\n",
       "\t<tr><th scope=row>X1</th><td>1         </td><td>10        </td><td>159.4     </td><td>28.09587  </td><td>167.5     </td><td>159.875   </td><td>40.0302   </td><td>118       </td><td>197       </td><td>79        </td><td>-0.1026497</td><td>-1.541007 </td><td>8.884693  </td></tr>\n",
       "</tbody>\n",
       "</table>\n"
      ],
      "text/latex": [
       "\\begin{tabular}{r|lllllllllllll}\n",
       "  & vars & n & mean & sd & median & trimmed & mad & min & max & range & skew & kurtosis & se\\\\\n",
       "\\hline\n",
       "\tX1 & 1          & 10         & 159.4      & 28.09587   & 167.5      & 159.875    & 40.0302    & 118        & 197        & 79         & -0.1026497 & -1.541007  & 8.884693  \\\\\n",
       "\\end{tabular}\n"
      ],
      "text/markdown": [
       "\n",
       "| <!--/--> | vars | n | mean | sd | median | trimmed | mad | min | max | range | skew | kurtosis | se | \n",
       "|---|\n",
       "| X1 | 1          | 10         | 159.4      | 28.09587   | 167.5      | 159.875    | 40.0302    | 118        | 197        | 79         | -0.1026497 | -1.541007  | 8.884693   | \n",
       "\n",
       "\n"
      ],
      "text/plain": [
       "   vars n  mean  sd       median trimmed mad     min max range skew      \n",
       "X1 1    10 159.4 28.09587 167.5  159.875 40.0302 118 197 79    -0.1026497\n",
       "   kurtosis  se      \n",
       "X1 -1.541007 8.884693"
      ]
     },
     "metadata": {},
     "output_type": "display_data"
    }
   ],
   "source": [
    "# Statistics which are useful\n",
    "library(psych)\n",
    "describeBy(dataset$Con1)\n",
    "describeBy(dataset$Con2)"
   ]
  },
  {
   "cell_type": "code",
   "execution_count": 20,
   "metadata": {},
   "outputs": [
    {
     "data": {
      "text/html": [
       "172.6"
      ],
      "text/latex": [
       "172.6"
      ],
      "text/markdown": [
       "172.6"
      ],
      "text/plain": [
       "[1] 172.6"
      ]
     },
     "metadata": {},
     "output_type": "display_data"
    }
   ],
   "source": [
    "#Calculate Mean\n",
    "mean.Con1=mean(dataset$Con1)\n",
    "mean.Con1"
   ]
  },
  {
   "cell_type": "code",
   "execution_count": 21,
   "metadata": {},
   "outputs": [
    {
     "data": {
      "text/plain": [
       "\n",
       "\tPaired t-test\n",
       "\n",
       "data:  dataset$Con1 and dataset$Con2\n",
       "t = 2.8747, df = 9, p-value = 0.01834\n",
       "alternative hypothesis: true difference in means is not equal to 0\n",
       "95 percent confidence interval:\n",
       "  2.812672 23.587328\n",
       "sample estimates:\n",
       "mean of the differences \n",
       "                   13.2 \n"
      ]
     },
     "metadata": {},
     "output_type": "display_data"
    }
   ],
   "source": [
    "#T test for paired sample\n",
    "t.test(dataset$Con1, dataset$Con2, mu=0, alt=\"two.sided\", paired = T, conf.level = 0.95)"
   ]
  }
 ],
 "metadata": {
  "kernelspec": {
   "display_name": "R [conda env:py36]",
   "language": "R",
   "name": "conda-env-py36-r"
  },
  "language_info": {
   "codemirror_mode": "r",
   "file_extension": ".r",
   "mimetype": "text/x-r-source",
   "name": "R",
   "pygments_lexer": "r",
   "version": "3.4.2"
  }
 },
 "nbformat": 4,
 "nbformat_minor": 2
}
